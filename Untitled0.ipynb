{
  "nbformat": 4,
  "nbformat_minor": 0,
  "metadata": {
    "colab": {
      "name": "Untitled0.ipynb",
      "provenance": [],
      "authorship_tag": "ABX9TyNjrABmcSuJSPDJ5xe4IbjG",
      "include_colab_link": true
    },
    "kernelspec": {
      "name": "python3",
      "display_name": "Python 3"
    },
    "language_info": {
      "name": "python"
    }
  },
  "cells": [
    {
      "cell_type": "markdown",
      "metadata": {
        "id": "view-in-github",
        "colab_type": "text"
      },
      "source": [
        "<a href=\"https://colab.research.google.com/github/blaymi/Construccionrecursivadepolinomios/blob/main/Untitled0.ipynb\" target=\"_parent\"><img src=\"https://colab.research.google.com/assets/colab-badge.svg\" alt=\"Open In Colab\"/></a>"
      ]
    },
    {
      "cell_type": "code",
      "metadata": {
        "id": "RL3yPY8cJ2-3"
      },
      "source": [
        ""
      ],
      "execution_count": null,
      "outputs": []
    },
    {
      "cell_type": "markdown",
      "metadata": {
        "id": "RFdAw-tYKM9M"
      },
      "source": [
        ""
      ]
    },
    {
      "cell_type": "code",
      "metadata": {
        "id": "qwhJisbQJ9N7"
      },
      "source": [
        "import numpy as np\n",
        "import sympy as sp\n",
        "import matplotlib.pyplot as plt\n",
        "x = sp.Symbol('x')\n",
        "\n",
        "def funcion_pun1(n=2):\n",
        "  polinomios=[1,x]\n",
        "  for i in range(2,n+1):\n",
        "    polinomios.append((1/2)*polinomios[i-1]-x*(1/4)*polinomios[i-2])\n",
        "  return polinomios"
      ],
      "execution_count": 10,
      "outputs": []
    },
    {
      "cell_type": "code",
      "metadata": {
        "id": "RVStCUaFNyRN"
      },
      "source": [
        "poly = funcion_pun1(10)"
      ],
      "execution_count": 13,
      "outputs": []
    },
    {
      "cell_type": "code",
      "metadata": {
        "colab": {
          "base_uri": "https://localhost:8080/",
          "height": 163
        },
        "id": "AFBdwvhMN00U",
        "outputId": "d2d5eb85-229b-4b6f-ca91-8108642f6223"
      },
      "source": [
        "poly[10]"
      ],
      "execution_count": 14,
      "outputs": [
        {
          "output_type": "execute_result",
          "data": {
            "text/latex": "$\\displaystyle - 0.0029296875 x^{2} - 0.0078125 x \\left(- 0.25 x^{2} + 0.125 x\\right) - 0.015625 x \\left(- 0.1875 x^{2} + 0.0625 x\\right) - 0.03125 x \\left(- 0.09375 x^{2} - 0.25 x \\left(- 0.25 x^{2} + 0.125 x\\right) + 0.03125 x\\right) - 0.0625 x \\left(- 0.046875 x^{2} - 0.125 x \\left(- 0.25 x^{2} + 0.125 x\\right) - 0.25 x \\left(- 0.1875 x^{2} + 0.0625 x\\right) + 0.015625 x\\right) - 0.125 x \\left(- 0.0234375 x^{2} - 0.0625 x \\left(- 0.25 x^{2} + 0.125 x\\right) - 0.125 x \\left(- 0.1875 x^{2} + 0.0625 x\\right) - 0.25 x \\left(- 0.09375 x^{2} - 0.25 x \\left(- 0.25 x^{2} + 0.125 x\\right) + 0.03125 x\\right) + 0.0078125 x\\right) - 0.25 x \\left(- 0.01171875 x^{2} - 0.03125 x \\left(- 0.25 x^{2} + 0.125 x\\right) - 0.0625 x \\left(- 0.1875 x^{2} + 0.0625 x\\right) - 0.125 x \\left(- 0.09375 x^{2} - 0.25 x \\left(- 0.25 x^{2} + 0.125 x\\right) + 0.03125 x\\right) - 0.25 x \\left(- 0.046875 x^{2} - 0.125 x \\left(- 0.25 x^{2} + 0.125 x\\right) - 0.25 x \\left(- 0.1875 x^{2} + 0.0625 x\\right) + 0.015625 x\\right) + 0.00390625 x\\right) + 0.0009765625 x$",
            "text/plain": [
              "-0.0029296875*x**2 - 0.0078125*x*(-0.25*x**2 + 0.125*x) - 0.015625*x*(-0.1875*x**2 + 0.0625*x) - 0.03125*x*(-0.09375*x**2 - 0.25*x*(-0.25*x**2 + 0.125*x) + 0.03125*x) - 0.0625*x*(-0.046875*x**2 - 0.125*x*(-0.25*x**2 + 0.125*x) - 0.25*x*(-0.1875*x**2 + 0.0625*x) + 0.015625*x) - 0.125*x*(-0.0234375*x**2 - 0.0625*x*(-0.25*x**2 + 0.125*x) - 0.125*x*(-0.1875*x**2 + 0.0625*x) - 0.25*x*(-0.09375*x**2 - 0.25*x*(-0.25*x**2 + 0.125*x) + 0.03125*x) + 0.0078125*x) - 0.25*x*(-0.01171875*x**2 - 0.03125*x*(-0.25*x**2 + 0.125*x) - 0.0625*x*(-0.1875*x**2 + 0.0625*x) - 0.125*x*(-0.09375*x**2 - 0.25*x*(-0.25*x**2 + 0.125*x) + 0.03125*x) - 0.25*x*(-0.046875*x**2 - 0.125*x*(-0.25*x**2 + 0.125*x) - 0.25*x*(-0.1875*x**2 + 0.0625*x) + 0.015625*x) + 0.00390625*x) + 0.0009765625*x"
            ]
          },
          "metadata": {},
          "execution_count": 14
        }
      ]
    },
    {
      "cell_type": "code",
      "metadata": {
        "colab": {
          "base_uri": "https://localhost:8080/",
          "height": 265
        },
        "id": "imbM_xTvKKUH",
        "outputId": "c1e808fb-5b49-482f-af78-0e989589edb0"
      },
      "source": [
        "xs = np.linspace(0, 100, num=1000)\n",
        "for j in range(1,6):\n",
        "  lambda_tn = sp.lambdify(x, poly[j], 'numpy')\n",
        "  ys = lambda_tn(xs)\n",
        "  \n",
        "  plt.plot(xs, ys)"
      ],
      "execution_count": 20,
      "outputs": [
        {
          "output_type": "display_data",
          "data": {
            "image/png": "[encoded data removed]",
            "text/plain": [
              "<Figure size 432x288 with 1 Axes>"
            ]
          },
          "metadata": {
            "needs_background": "light"
          }
        }
      ]
    }
  ]
}