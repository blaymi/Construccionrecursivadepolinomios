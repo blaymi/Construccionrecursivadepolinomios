{
  "nbformat": 4,
  "nbformat_minor": 0,
  "metadata": {
    "colab": {
      "name": "Untitled0.ipynb",
      "provenance": [],
      "authorship_tag": "ABX9TyMh3OhBDGTxUT92lvjEC6NK",
      "include_colab_link": true
    },
    "kernelspec": {
      "name": "python3",
      "display_name": "Python 3"
    },
    "language_info": {
      "name": "python"
    }
  },
  "cells": [
    {
      "cell_type": "markdown",
      "metadata": {
        "id": "view-in-github",
        "colab_type": "text"
      },
      "source": [
        "<a href=\"https://colab.research.google.com/github/blaymi/Construccionrecursivadepolinomios/blob/main/Untitled0.ipynb\" target=\"_parent\"><img src=\"https://colab.research.google.com/assets/colab-badge.svg\" alt=\"Open In Colab\"/></a>"
      ]
    },
    {
      "cell_type": "markdown",
      "metadata": {
        "id": "Voh-Dv4nEUDd"
      },
      "source": [
        "# Polinomios\n",
        "\n",
        "* $P_{0}(x) = x-2$\n",
        "* $P_{1}(x) = x^2+x$\n",
        "* $P_{n}(x) = P_{n-1}(\\frac{x}{2})-xP_{n-2}(\\frac{x}{4})$"
      ]
    },
    {
      "cell_type": "code",
      "metadata": {
        "id": "TcO6sELJCf7w"
      },
      "source": [
        "import numpy as np\n",
        "import sympy as sp\n",
        "import matplotlib.pyplot as plt\n",
        "x = sp.Symbol('x')\n",
        "\n",
        "def funcion_pun1(n=2):\n",
        "  polinomios=[1,x]\n",
        "  for i in range(2,n+1):\n",
        "    polinomios.append((1/2)*polinomios[i-1]-x*(1/4)*polinomios[i-2])\n",
        "  return polinomios"
      ],
      "execution_count": 37,
      "outputs": []
    },
    {
      "cell_type": "code",
      "metadata": {
        "id": "uwmTTwZuFMBh"
      },
      "source": [
        "poly = funcion_pun1(10)"
      ],
      "execution_count": 42,
      "outputs": []
    },
    {
      "cell_type": "code",
      "metadata": {
        "colab": {
          "base_uri": "https://localhost:8080/",
          "height": 163
        },
        "id": "DT8prZaWJhxX",
        "outputId": "c2c37a86-424e-4be2-bf74-3d3364001f60"
      },
      "source": [
        "poly[10]"
      ],
      "execution_count": 43,
      "outputs": [
        {
          "output_type": "execute_result",
          "data": {
            "text/latex": "$\\displaystyle - 0.0029296875 x^{2} - 0.0078125 x \\left(- 0.25 x^{2} + 0.125 x\\right) - 0.015625 x \\left(- 0.1875 x^{2} + 0.0625 x\\right) - 0.03125 x \\left(- 0.09375 x^{2} - 0.25 x \\left(- 0.25 x^{2} + 0.125 x\\right) + 0.03125 x\\right) - 0.0625 x \\left(- 0.046875 x^{2} - 0.125 x \\left(- 0.25 x^{2} + 0.125 x\\right) - 0.25 x \\left(- 0.1875 x^{2} + 0.0625 x\\right) + 0.015625 x\\right) - 0.125 x \\left(- 0.0234375 x^{2} - 0.0625 x \\left(- 0.25 x^{2} + 0.125 x\\right) - 0.125 x \\left(- 0.1875 x^{2} + 0.0625 x\\right) - 0.25 x \\left(- 0.09375 x^{2} - 0.25 x \\left(- 0.25 x^{2} + 0.125 x\\right) + 0.03125 x\\right) + 0.0078125 x\\right) - 0.25 x \\left(- 0.01171875 x^{2} - 0.03125 x \\left(- 0.25 x^{2} + 0.125 x\\right) - 0.0625 x \\left(- 0.1875 x^{2} + 0.0625 x\\right) - 0.125 x \\left(- 0.09375 x^{2} - 0.25 x \\left(- 0.25 x^{2} + 0.125 x\\right) + 0.03125 x\\right) - 0.25 x \\left(- 0.046875 x^{2} - 0.125 x \\left(- 0.25 x^{2} + 0.125 x\\right) - 0.25 x \\left(- 0.1875 x^{2} + 0.0625 x\\right) + 0.015625 x\\right) + 0.00390625 x\\right) + 0.0009765625 x$",
            "text/plain": [
              "-0.0029296875*x**2 - 0.0078125*x*(-0.25*x**2 + 0.125*x) - 0.015625*x*(-0.1875*x**2 + 0.0625*x) - 0.03125*x*(-0.09375*x**2 - 0.25*x*(-0.25*x**2 + 0.125*x) + 0.03125*x) - 0.0625*x*(-0.046875*x**2 - 0.125*x*(-0.25*x**2 + 0.125*x) - 0.25*x*(-0.1875*x**2 + 0.0625*x) + 0.015625*x) - 0.125*x*(-0.0234375*x**2 - 0.0625*x*(-0.25*x**2 + 0.125*x) - 0.125*x*(-0.1875*x**2 + 0.0625*x) - 0.25*x*(-0.09375*x**2 - 0.25*x*(-0.25*x**2 + 0.125*x) + 0.03125*x) + 0.0078125*x) - 0.25*x*(-0.01171875*x**2 - 0.03125*x*(-0.25*x**2 + 0.125*x) - 0.0625*x*(-0.1875*x**2 + 0.0625*x) - 0.125*x*(-0.09375*x**2 - 0.25*x*(-0.25*x**2 + 0.125*x) + 0.03125*x) - 0.25*x*(-0.046875*x**2 - 0.125*x*(-0.25*x**2 + 0.125*x) - 0.25*x*(-0.1875*x**2 + 0.0625*x) + 0.015625*x) + 0.00390625*x) + 0.0009765625*x"
            ]
          },
          "metadata": {},
          "execution_count": 43
        }
      ]
    }
  ]
}